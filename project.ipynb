{
 "cells": [
  {
   "cell_type": "markdown",
   "id": "8a340bd9",
   "metadata": {
    "id": "8a340bd9"
   },
   "source": [
    "<h1 style=\"property:value;color:LightSeaGreen;font-size:300%;text-align:center; \">Kariman Karm Mohamed Mousaa </h1>"
   ]
  },
  {
   "cell_type": "markdown",
   "id": "95279bb7",
   "metadata": {
    "id": "95279bb7"
   },
   "source": [
    "<h6 style=\"property:value;color:LightSlateGray;font-size:200%; \"> CSAI 801 Project: COVID-19 Outcome Prediction</h6>"
   ]
  },
  {
   "cell_type": "markdown",
   "id": "e8f8c928",
   "metadata": {
    "id": "e8f8c928"
   },
   "source": [
    "<h6 style=\"property:value;color:LightCoral;font-size:150%;background-color:Azure; \">Project Description</h6>\n",
    "<p style=\"property:value;color:MidnightBlue;font-size:100%;\">\n",
    "The data used in this project will help to identify whether a person is going to recover from<br>\n",
    "coronavirus symptoms or not based on some pre-defined standard symptoms. These symptoms are<br>\n",
    "based on guidelines given by the World Health Organization (WHO).<br>\n",
    "This dataset has daily level information on the number of affected cases, deaths and recovery from<br>\n",
    "2019 novel coronavirus. Please note that this is a time series data and so the number of cases on<br>\n",
    "any given day is the cumulative number.<br>\n",
    "The data is available from 22 Jan, 2020. Data is in “data.csv”.<br>\n",
    "The dataset contains 14 major variables that will be having an impact on whether someone has<br>\n",
    "recovered or not, the description of each variable are as follows,<br>\n",
    "</p>\n",
    "<pre style=\"property:value;color:MidnightBlue;font-size:100%;\">\n",
    "1. Country: where the person resides\n",
    "2. Location: which part in the Country\n",
    "3. Age: Classification of the age group for each person, based on WHO Age Group Standard\n",
    "4. Gender: Male or Female\n",
    "5. Visited_Wuhan: whether the person has visited Wuhan, China or not\n",
    "6. From_Wuhan: whether the person is from Wuhan, China or not\n",
    "7. Symptoms: there are six families of symptoms that are coded in six fields.\n",
    "13. Time_before_symptoms_appear:\n",
    "14. Result: death (1) or recovered (0)\n",
    "</pre>"
   ]
  },
  {
   "cell_type": "markdown",
   "id": "637ffef5",
   "metadata": {
    "id": "637ffef5"
   },
   "source": [
    "<h6 style=\"property:value;color:blue;font-size:200%; \">1- part1</h6>\n",
    "<h6 style=\"property:value;color:Tan;font-size:150%; \">a- Import Libraries and Load the Data</h6>"
   ]
  },
  {
   "cell_type": "code",
   "execution_count": 1,
   "id": "da7044fe",
   "metadata": {
    "id": "da7044fe"
   },
   "outputs": [],
   "source": [
    "#import basic libraries \n",
    "import pandas as pd\n",
    "import numpy as np\n",
    "import matplotlib\n",
    "import matplotlib.pyplot as plt\n",
    "%matplotlib inline\n",
    "import seaborn as sns\n",
    "from sklearn.metrics import f1_score\n",
    "from sklearn.model_selection import train_test_split\n",
    "from sklearn.metrics import classification_report, confusion_matrix\n",
    "from sklearn import metrics\n",
    "from sklearn.metrics import roc_auc_score\n",
    "from sklearn.metrics import recall_score\n",
    "from sklearn.metrics import accuracy_score\n",
    "from sklearn.model_selection import GridSearchCV\n",
    "from sklearn.naive_bayes import GaussianNB\n",
    "from sklearn.linear_model import LogisticRegression\n",
    "from sklearn.tree import DecisionTreeClassifier\n",
    "from sklearn.neighbors import KNeighborsClassifier\n",
    "from sklearn.svm import SVC\n",
    "from sklearn.model_selection import cross_val_score\n",
    "from sklearn import preprocessing\n",
    "#from sklearn.feature_selection import SelectKBest, chi2\n",
    "from sklearn.preprocessing import StandardScaler\n",
    "import warnings\n",
    "warnings.filterwarnings('ignore')"
   ]
  },
  {
   "cell_type": "code",
   "execution_count": 2,
   "id": "afc0b1ee",
   "metadata": {
    "colab": {
     "base_uri": "https://localhost:8080/",
     "height": 396
    },
    "id": "afc0b1ee",
    "outputId": "2666a0d1-3ccb-4f07-f460-a498a2dcd493"
   },
   "outputs": [
    {
     "data": {
      "text/html": [
       "<div>\n",
       "<style scoped>\n",
       "    .dataframe tbody tr th:only-of-type {\n",
       "        vertical-align: middle;\n",
       "    }\n",
       "\n",
       "    .dataframe tbody tr th {\n",
       "        vertical-align: top;\n",
       "    }\n",
       "\n",
       "    .dataframe thead th {\n",
       "        text-align: right;\n",
       "    }\n",
       "</style>\n",
       "<table border=\"1\" class=\"dataframe\">\n",
       "  <thead>\n",
       "    <tr style=\"text-align: right;\">\n",
       "      <th></th>\n",
       "      <th>location</th>\n",
       "      <th>country</th>\n",
       "      <th>gender</th>\n",
       "      <th>age</th>\n",
       "      <th>vis_wuhan</th>\n",
       "      <th>from_wuhan</th>\n",
       "      <th>symptom1</th>\n",
       "      <th>symptom2</th>\n",
       "      <th>symptom3</th>\n",
       "      <th>symptom4</th>\n",
       "      <th>symptom5</th>\n",
       "      <th>symptom6</th>\n",
       "      <th>diff_sym_hos</th>\n",
       "      <th>result</th>\n",
       "    </tr>\n",
       "  </thead>\n",
       "  <tbody>\n",
       "    <tr>\n",
       "      <th>0</th>\n",
       "      <td>104</td>\n",
       "      <td>8</td>\n",
       "      <td>1</td>\n",
       "      <td>66.0</td>\n",
       "      <td>1</td>\n",
       "      <td>0</td>\n",
       "      <td>14</td>\n",
       "      <td>31</td>\n",
       "      <td>19</td>\n",
       "      <td>12</td>\n",
       "      <td>3</td>\n",
       "      <td>1</td>\n",
       "      <td>8</td>\n",
       "      <td>1</td>\n",
       "    </tr>\n",
       "    <tr>\n",
       "      <th>1</th>\n",
       "      <td>101</td>\n",
       "      <td>8</td>\n",
       "      <td>0</td>\n",
       "      <td>56.0</td>\n",
       "      <td>0</td>\n",
       "      <td>1</td>\n",
       "      <td>14</td>\n",
       "      <td>31</td>\n",
       "      <td>19</td>\n",
       "      <td>12</td>\n",
       "      <td>3</td>\n",
       "      <td>1</td>\n",
       "      <td>0</td>\n",
       "      <td>0</td>\n",
       "    </tr>\n",
       "    <tr>\n",
       "      <th>2</th>\n",
       "      <td>137</td>\n",
       "      <td>8</td>\n",
       "      <td>1</td>\n",
       "      <td>46.0</td>\n",
       "      <td>0</td>\n",
       "      <td>1</td>\n",
       "      <td>14</td>\n",
       "      <td>31</td>\n",
       "      <td>19</td>\n",
       "      <td>12</td>\n",
       "      <td>3</td>\n",
       "      <td>1</td>\n",
       "      <td>13</td>\n",
       "      <td>0</td>\n",
       "    </tr>\n",
       "    <tr>\n",
       "      <th>3</th>\n",
       "      <td>116</td>\n",
       "      <td>8</td>\n",
       "      <td>0</td>\n",
       "      <td>60.0</td>\n",
       "      <td>1</td>\n",
       "      <td>0</td>\n",
       "      <td>14</td>\n",
       "      <td>31</td>\n",
       "      <td>19</td>\n",
       "      <td>12</td>\n",
       "      <td>3</td>\n",
       "      <td>1</td>\n",
       "      <td>0</td>\n",
       "      <td>0</td>\n",
       "    </tr>\n",
       "    <tr>\n",
       "      <th>4</th>\n",
       "      <td>116</td>\n",
       "      <td>8</td>\n",
       "      <td>1</td>\n",
       "      <td>58.0</td>\n",
       "      <td>0</td>\n",
       "      <td>0</td>\n",
       "      <td>14</td>\n",
       "      <td>31</td>\n",
       "      <td>19</td>\n",
       "      <td>12</td>\n",
       "      <td>3</td>\n",
       "      <td>1</td>\n",
       "      <td>0</td>\n",
       "      <td>0</td>\n",
       "    </tr>\n",
       "    <tr>\n",
       "      <th>5</th>\n",
       "      <td>23</td>\n",
       "      <td>8</td>\n",
       "      <td>0</td>\n",
       "      <td>44.0</td>\n",
       "      <td>0</td>\n",
       "      <td>1</td>\n",
       "      <td>14</td>\n",
       "      <td>31</td>\n",
       "      <td>19</td>\n",
       "      <td>12</td>\n",
       "      <td>3</td>\n",
       "      <td>1</td>\n",
       "      <td>0</td>\n",
       "      <td>0</td>\n",
       "    </tr>\n",
       "    <tr>\n",
       "      <th>6</th>\n",
       "      <td>105</td>\n",
       "      <td>8</td>\n",
       "      <td>1</td>\n",
       "      <td>34.0</td>\n",
       "      <td>0</td>\n",
       "      <td>1</td>\n",
       "      <td>14</td>\n",
       "      <td>31</td>\n",
       "      <td>19</td>\n",
       "      <td>12</td>\n",
       "      <td>3</td>\n",
       "      <td>1</td>\n",
       "      <td>0</td>\n",
       "      <td>0</td>\n",
       "    </tr>\n",
       "    <tr>\n",
       "      <th>7</th>\n",
       "      <td>13</td>\n",
       "      <td>8</td>\n",
       "      <td>1</td>\n",
       "      <td>37.0</td>\n",
       "      <td>1</td>\n",
       "      <td>0</td>\n",
       "      <td>14</td>\n",
       "      <td>31</td>\n",
       "      <td>19</td>\n",
       "      <td>12</td>\n",
       "      <td>3</td>\n",
       "      <td>1</td>\n",
       "      <td>6</td>\n",
       "      <td>0</td>\n",
       "    </tr>\n",
       "    <tr>\n",
       "      <th>8</th>\n",
       "      <td>13</td>\n",
       "      <td>8</td>\n",
       "      <td>1</td>\n",
       "      <td>39.0</td>\n",
       "      <td>1</td>\n",
       "      <td>0</td>\n",
       "      <td>14</td>\n",
       "      <td>31</td>\n",
       "      <td>19</td>\n",
       "      <td>12</td>\n",
       "      <td>3</td>\n",
       "      <td>1</td>\n",
       "      <td>5</td>\n",
       "      <td>0</td>\n",
       "    </tr>\n",
       "  </tbody>\n",
       "</table>\n",
       "</div>"
      ],
      "text/plain": [
       "   location  country  gender   age  vis_wuhan  from_wuhan  symptom1  symptom2  \\\n",
       "0       104        8       1  66.0          1           0        14        31   \n",
       "1       101        8       0  56.0          0           1        14        31   \n",
       "2       137        8       1  46.0          0           1        14        31   \n",
       "3       116        8       0  60.0          1           0        14        31   \n",
       "4       116        8       1  58.0          0           0        14        31   \n",
       "5        23        8       0  44.0          0           1        14        31   \n",
       "6       105        8       1  34.0          0           1        14        31   \n",
       "7        13        8       1  37.0          1           0        14        31   \n",
       "8        13        8       1  39.0          1           0        14        31   \n",
       "\n",
       "   symptom3  symptom4  symptom5  symptom6  diff_sym_hos  result  \n",
       "0        19        12         3         1             8       1  \n",
       "1        19        12         3         1             0       0  \n",
       "2        19        12         3         1            13       0  \n",
       "3        19        12         3         1             0       0  \n",
       "4        19        12         3         1             0       0  \n",
       "5        19        12         3         1             0       0  \n",
       "6        19        12         3         1             0       0  \n",
       "7        19        12         3         1             6       0  \n",
       "8        19        12         3         1             5       0  "
      ]
     },
     "execution_count": 2,
     "metadata": {},
     "output_type": "execute_result"
    }
   ],
   "source": [
    "#load data \n",
    "data=pd.read_csv('data.csv',index_col=0)\n",
    "data.head(9)"
   ]
  },
  {
   "cell_type": "markdown",
   "id": "3d3f8170",
   "metadata": {
    "id": "3d3f8170"
   },
   "source": [
    "<h6 style=\"property:value;color:Tan;font-size:200%; \">b- Exploratory Data Analysis (EDA)</h6>"
   ]
  },
  {
   "cell_type": "code",
   "execution_count": null,
   "id": "633f3c60",
   "metadata": {
    "colab": {
     "base_uri": "https://localhost:8080/"
    },
    "id": "633f3c60",
    "outputId": "0d0cf0a3-08c7-4cf9-a8bb-009acff3f77e"
   },
   "outputs": [
    {
     "name": "stdout",
     "output_type": "stream",
     "text": [
      "<class 'pandas.core.frame.DataFrame'>\n",
      "Int64Index: 863 entries, 0 to 862\n",
      "Data columns (total 14 columns):\n",
      " #   Column        Non-Null Count  Dtype  \n",
      "---  ------        --------------  -----  \n",
      " 0   location      863 non-null    int64  \n",
      " 1   country       863 non-null    int64  \n",
      " 2   gender        863 non-null    int64  \n",
      " 3   age           863 non-null    float64\n",
      " 4   vis_wuhan     863 non-null    int64  \n",
      " 5   from_wuhan    863 non-null    int64  \n",
      " 6   symptom1      863 non-null    int64  \n",
      " 7   symptom2      863 non-null    int64  \n",
      " 8   symptom3      863 non-null    int64  \n",
      " 9   symptom4      863 non-null    int64  \n",
      " 10  symptom5      863 non-null    int64  \n",
      " 11  symptom6      863 non-null    int64  \n",
      " 12  diff_sym_hos  863 non-null    int64  \n",
      " 13  result        863 non-null    int64  \n",
      "dtypes: float64(1), int64(13)\n",
      "memory usage: 101.1 KB\n"
     ]
    }
   ],
   "source": [
    "data.info()"
   ]
  },
  {
   "cell_type": "code",
   "execution_count": null,
   "id": "9884fa07",
   "metadata": {
    "colab": {
     "base_uri": "https://localhost:8080/",
     "height": 364
    },
    "id": "9884fa07",
    "outputId": "4a7ef4e5-ab3c-446c-e56d-20216fd3d2f3"
   },
   "outputs": [
    {
     "data": {
      "text/html": [
       "\n",
       "  <div id=\"df-b1c61b15-2cbe-4e76-9caf-94a3385f0e64\">\n",
       "    <div class=\"colab-df-container\">\n",
       "      <div>\n",
       "<style scoped>\n",
       "    .dataframe tbody tr th:only-of-type {\n",
       "        vertical-align: middle;\n",
       "    }\n",
       "\n",
       "    .dataframe tbody tr th {\n",
       "        vertical-align: top;\n",
       "    }\n",
       "\n",
       "    .dataframe thead th {\n",
       "        text-align: right;\n",
       "    }\n",
       "</style>\n",
       "<table border=\"1\" class=\"dataframe\">\n",
       "  <thead>\n",
       "    <tr style=\"text-align: right;\">\n",
       "      <th></th>\n",
       "      <th>location</th>\n",
       "      <th>country</th>\n",
       "      <th>gender</th>\n",
       "      <th>age</th>\n",
       "      <th>vis_wuhan</th>\n",
       "      <th>from_wuhan</th>\n",
       "      <th>symptom1</th>\n",
       "      <th>symptom2</th>\n",
       "      <th>symptom3</th>\n",
       "      <th>symptom4</th>\n",
       "      <th>symptom5</th>\n",
       "      <th>symptom6</th>\n",
       "      <th>diff_sym_hos</th>\n",
       "      <th>result</th>\n",
       "    </tr>\n",
       "  </thead>\n",
       "  <tbody>\n",
       "    <tr>\n",
       "      <th>count</th>\n",
       "      <td>863.000000</td>\n",
       "      <td>863.000000</td>\n",
       "      <td>863.000000</td>\n",
       "      <td>863.000000</td>\n",
       "      <td>863.000000</td>\n",
       "      <td>863.000000</td>\n",
       "      <td>863.00000</td>\n",
       "      <td>863.000000</td>\n",
       "      <td>863.000000</td>\n",
       "      <td>863.000000</td>\n",
       "      <td>863.000000</td>\n",
       "      <td>863.000000</td>\n",
       "      <td>863.000000</td>\n",
       "      <td>863.000000</td>\n",
       "    </tr>\n",
       "    <tr>\n",
       "      <th>mean</th>\n",
       "      <td>76.645423</td>\n",
       "      <td>16.995365</td>\n",
       "      <td>0.849363</td>\n",
       "      <td>49.400000</td>\n",
       "      <td>0.181924</td>\n",
       "      <td>0.107764</td>\n",
       "      <td>12.13905</td>\n",
       "      <td>28.002317</td>\n",
       "      <td>18.298957</td>\n",
       "      <td>11.840093</td>\n",
       "      <td>2.993048</td>\n",
       "      <td>0.998841</td>\n",
       "      <td>0.995365</td>\n",
       "      <td>0.125145</td>\n",
       "    </tr>\n",
       "    <tr>\n",
       "      <th>std</th>\n",
       "      <td>39.200264</td>\n",
       "      <td>7.809951</td>\n",
       "      <td>0.726062</td>\n",
       "      <td>15.079203</td>\n",
       "      <td>0.386005</td>\n",
       "      <td>0.310261</td>\n",
       "      <td>3.99787</td>\n",
       "      <td>7.473231</td>\n",
       "      <td>2.864064</td>\n",
       "      <td>1.183771</td>\n",
       "      <td>0.127251</td>\n",
       "      <td>0.034040</td>\n",
       "      <td>2.358767</td>\n",
       "      <td>0.331075</td>\n",
       "    </tr>\n",
       "    <tr>\n",
       "      <th>min</th>\n",
       "      <td>0.000000</td>\n",
       "      <td>0.000000</td>\n",
       "      <td>0.000000</td>\n",
       "      <td>2.000000</td>\n",
       "      <td>0.000000</td>\n",
       "      <td>0.000000</td>\n",
       "      <td>0.00000</td>\n",
       "      <td>0.000000</td>\n",
       "      <td>0.000000</td>\n",
       "      <td>0.000000</td>\n",
       "      <td>0.000000</td>\n",
       "      <td>0.000000</td>\n",
       "      <td>-5.000000</td>\n",
       "      <td>0.000000</td>\n",
       "    </tr>\n",
       "    <tr>\n",
       "      <th>25%</th>\n",
       "      <td>45.000000</td>\n",
       "      <td>11.000000</td>\n",
       "      <td>0.000000</td>\n",
       "      <td>40.000000</td>\n",
       "      <td>0.000000</td>\n",
       "      <td>0.000000</td>\n",
       "      <td>14.00000</td>\n",
       "      <td>31.000000</td>\n",
       "      <td>19.000000</td>\n",
       "      <td>12.000000</td>\n",
       "      <td>3.000000</td>\n",
       "      <td>1.000000</td>\n",
       "      <td>0.000000</td>\n",
       "      <td>0.000000</td>\n",
       "    </tr>\n",
       "    <tr>\n",
       "      <th>50%</th>\n",
       "      <td>87.000000</td>\n",
       "      <td>18.000000</td>\n",
       "      <td>1.000000</td>\n",
       "      <td>49.400000</td>\n",
       "      <td>0.000000</td>\n",
       "      <td>0.000000</td>\n",
       "      <td>14.00000</td>\n",
       "      <td>31.000000</td>\n",
       "      <td>19.000000</td>\n",
       "      <td>12.000000</td>\n",
       "      <td>3.000000</td>\n",
       "      <td>1.000000</td>\n",
       "      <td>0.000000</td>\n",
       "      <td>0.000000</td>\n",
       "    </tr>\n",
       "    <tr>\n",
       "      <th>75%</th>\n",
       "      <td>110.000000</td>\n",
       "      <td>24.000000</td>\n",
       "      <td>1.000000</td>\n",
       "      <td>57.000000</td>\n",
       "      <td>0.000000</td>\n",
       "      <td>0.000000</td>\n",
       "      <td>14.00000</td>\n",
       "      <td>31.000000</td>\n",
       "      <td>19.000000</td>\n",
       "      <td>12.000000</td>\n",
       "      <td>3.000000</td>\n",
       "      <td>1.000000</td>\n",
       "      <td>1.000000</td>\n",
       "      <td>0.000000</td>\n",
       "    </tr>\n",
       "    <tr>\n",
       "      <th>max</th>\n",
       "      <td>138.000000</td>\n",
       "      <td>33.000000</td>\n",
       "      <td>2.000000</td>\n",
       "      <td>96.000000</td>\n",
       "      <td>1.000000</td>\n",
       "      <td>1.000000</td>\n",
       "      <td>24.00000</td>\n",
       "      <td>31.000000</td>\n",
       "      <td>19.000000</td>\n",
       "      <td>12.000000</td>\n",
       "      <td>3.000000</td>\n",
       "      <td>1.000000</td>\n",
       "      <td>15.000000</td>\n",
       "      <td>1.000000</td>\n",
       "    </tr>\n",
       "  </tbody>\n",
       "</table>\n",
       "</div>\n",
       "      <button class=\"colab-df-convert\" onclick=\"convertToInteractive('df-b1c61b15-2cbe-4e76-9caf-94a3385f0e64')\"\n",
       "              title=\"Convert this dataframe to an interactive table.\"\n",
       "              style=\"display:none;\">\n",
       "        \n",
       "  <svg xmlns=\"http://www.w3.org/2000/svg\" height=\"24px\"viewBox=\"0 0 24 24\"\n",
       "       width=\"24px\">\n",
       "    <path d=\"M0 0h24v24H0V0z\" fill=\"none\"/>\n",
       "    <path d=\"M18.56 5.44l.94 2.06.94-2.06 2.06-.94-2.06-.94-.94-2.06-.94 2.06-2.06.94zm-11 1L8.5 8.5l.94-2.06 2.06-.94-2.06-.94L8.5 2.5l-.94 2.06-2.06.94zm10 10l.94 2.06.94-2.06 2.06-.94-2.06-.94-.94-2.06-.94 2.06-2.06.94z\"/><path d=\"M17.41 7.96l-1.37-1.37c-.4-.4-.92-.59-1.43-.59-.52 0-1.04.2-1.43.59L10.3 9.45l-7.72 7.72c-.78.78-.78 2.05 0 2.83L4 21.41c.39.39.9.59 1.41.59.51 0 1.02-.2 1.41-.59l7.78-7.78 2.81-2.81c.8-.78.8-2.07 0-2.86zM5.41 20L4 18.59l7.72-7.72 1.47 1.35L5.41 20z\"/>\n",
       "  </svg>\n",
       "      </button>\n",
       "      \n",
       "  <style>\n",
       "    .colab-df-container {\n",
       "      display:flex;\n",
       "      flex-wrap:wrap;\n",
       "      gap: 12px;\n",
       "    }\n",
       "\n",
       "    .colab-df-convert {\n",
       "      background-color: #E8F0FE;\n",
       "      border: none;\n",
       "      border-radius: 50%;\n",
       "      cursor: pointer;\n",
       "      display: none;\n",
       "      fill: #1967D2;\n",
       "      height: 32px;\n",
       "      padding: 0 0 0 0;\n",
       "      width: 32px;\n",
       "    }\n",
       "\n",
       "    .colab-df-convert:hover {\n",
       "      background-color: #E2EBFA;\n",
       "      box-shadow: 0px 1px 2px rgba(60, 64, 67, 0.3), 0px 1px 3px 1px rgba(60, 64, 67, 0.15);\n",
       "      fill: #174EA6;\n",
       "    }\n",
       "\n",
       "    [theme=dark] .colab-df-convert {\n",
       "      background-color: #3B4455;\n",
       "      fill: #D2E3FC;\n",
       "    }\n",
       "\n",
       "    [theme=dark] .colab-df-convert:hover {\n",
       "      background-color: #434B5C;\n",
       "      box-shadow: 0px 1px 3px 1px rgba(0, 0, 0, 0.15);\n",
       "      filter: drop-shadow(0px 1px 2px rgba(0, 0, 0, 0.3));\n",
       "      fill: #FFFFFF;\n",
       "    }\n",
       "  </style>\n",
       "\n",
       "      <script>\n",
       "        const buttonEl =\n",
       "          document.querySelector('#df-b1c61b15-2cbe-4e76-9caf-94a3385f0e64 button.colab-df-convert');\n",
       "        buttonEl.style.display =\n",
       "          google.colab.kernel.accessAllowed ? 'block' : 'none';\n",
       "\n",
       "        async function convertToInteractive(key) {\n",
       "          const element = document.querySelector('#df-b1c61b15-2cbe-4e76-9caf-94a3385f0e64');\n",
       "          const dataTable =\n",
       "            await google.colab.kernel.invokeFunction('convertToInteractive',\n",
       "                                                     [key], {});\n",
       "          if (!dataTable) return;\n",
       "\n",
       "          const docLinkHtml = 'Like what you see? Visit the ' +\n",
       "            '<a target=\"_blank\" href=https://colab.research.google.com/notebooks/data_table.ipynb>data table notebook</a>'\n",
       "            + ' to learn more about interactive tables.';\n",
       "          element.innerHTML = '';\n",
       "          dataTable['output_type'] = 'display_data';\n",
       "          await google.colab.output.renderOutput(dataTable, element);\n",
       "          const docLink = document.createElement('div');\n",
       "          docLink.innerHTML = docLinkHtml;\n",
       "          element.appendChild(docLink);\n",
       "        }\n",
       "      </script>\n",
       "    </div>\n",
       "  </div>\n",
       "  "
      ],
      "text/plain": [
       "         location     country      gender  ...    symptom6  diff_sym_hos      result\n",
       "count  863.000000  863.000000  863.000000  ...  863.000000    863.000000  863.000000\n",
       "mean    76.645423   16.995365    0.849363  ...    0.998841      0.995365    0.125145\n",
       "std     39.200264    7.809951    0.726062  ...    0.034040      2.358767    0.331075\n",
       "min      0.000000    0.000000    0.000000  ...    0.000000     -5.000000    0.000000\n",
       "25%     45.000000   11.000000    0.000000  ...    1.000000      0.000000    0.000000\n",
       "50%     87.000000   18.000000    1.000000  ...    1.000000      0.000000    0.000000\n",
       "75%    110.000000   24.000000    1.000000  ...    1.000000      1.000000    0.000000\n",
       "max    138.000000   33.000000    2.000000  ...    1.000000     15.000000    1.000000\n",
       "\n",
       "[8 rows x 14 columns]"
      ]
     },
     "execution_count": 4,
     "metadata": {},
     "output_type": "execute_result"
    }
   ],
   "source": [
    "data.describe()"
   ]
  },
  {
   "cell_type": "code",
   "execution_count": null,
   "id": "426111e9",
   "metadata": {
    "colab": {
     "base_uri": "https://localhost:8080/",
     "height": 176
    },
    "id": "426111e9",
    "outputId": "50d677f3-2efa-4d83-841d-794503a25e66"
   },
   "outputs": [
    {
     "data": {
      "text/html": [
       "\n",
       "  <div id=\"df-c82148f1-28d3-4b6c-a6f6-a2102e56f736\">\n",
       "    <div class=\"colab-df-container\">\n",
       "      <div>\n",
       "<style scoped>\n",
       "    .dataframe tbody tr th:only-of-type {\n",
       "        vertical-align: middle;\n",
       "    }\n",
       "\n",
       "    .dataframe tbody tr th {\n",
       "        vertical-align: top;\n",
       "    }\n",
       "\n",
       "    .dataframe thead th {\n",
       "        text-align: right;\n",
       "    }\n",
       "</style>\n",
       "<table border=\"1\" class=\"dataframe\">\n",
       "  <thead>\n",
       "    <tr style=\"text-align: right;\">\n",
       "      <th></th>\n",
       "      <th>location</th>\n",
       "      <th>country</th>\n",
       "      <th>gender</th>\n",
       "      <th>age</th>\n",
       "      <th>vis_wuhan</th>\n",
       "      <th>from_wuhan</th>\n",
       "      <th>symptom1</th>\n",
       "      <th>symptom2</th>\n",
       "      <th>symptom3</th>\n",
       "      <th>symptom4</th>\n",
       "      <th>symptom5</th>\n",
       "      <th>symptom6</th>\n",
       "      <th>diff_sym_hos</th>\n",
       "      <th>result</th>\n",
       "    </tr>\n",
       "  </thead>\n",
       "  <tbody>\n",
       "    <tr>\n",
       "      <th>223</th>\n",
       "      <td>56</td>\n",
       "      <td>18</td>\n",
       "      <td>1</td>\n",
       "      <td>35.0</td>\n",
       "      <td>0</td>\n",
       "      <td>0</td>\n",
       "      <td>6</td>\n",
       "      <td>31</td>\n",
       "      <td>19</td>\n",
       "      <td>12</td>\n",
       "      <td>3</td>\n",
       "      <td>1</td>\n",
       "      <td>-1</td>\n",
       "      <td>0</td>\n",
       "    </tr>\n",
       "    <tr>\n",
       "      <th>240</th>\n",
       "      <td>128</td>\n",
       "      <td>18</td>\n",
       "      <td>1</td>\n",
       "      <td>65.0</td>\n",
       "      <td>0</td>\n",
       "      <td>0</td>\n",
       "      <td>6</td>\n",
       "      <td>31</td>\n",
       "      <td>19</td>\n",
       "      <td>12</td>\n",
       "      <td>3</td>\n",
       "      <td>1</td>\n",
       "      <td>-5</td>\n",
       "      <td>0</td>\n",
       "    </tr>\n",
       "  </tbody>\n",
       "</table>\n",
       "</div>\n",
       "      <button class=\"colab-df-convert\" onclick=\"convertToInteractive('df-c82148f1-28d3-4b6c-a6f6-a2102e56f736')\"\n",
       "              title=\"Convert this dataframe to an interactive table.\"\n",
       "              style=\"display:none;\">\n",
       "        \n",
       "  <svg xmlns=\"http://www.w3.org/2000/svg\" height=\"24px\"viewBox=\"0 0 24 24\"\n",
       "       width=\"24px\">\n",
       "    <path d=\"M0 0h24v24H0V0z\" fill=\"none\"/>\n",
       "    <path d=\"M18.56 5.44l.94 2.06.94-2.06 2.06-.94-2.06-.94-.94-2.06-.94 2.06-2.06.94zm-11 1L8.5 8.5l.94-2.06 2.06-.94-2.06-.94L8.5 2.5l-.94 2.06-2.06.94zm10 10l.94 2.06.94-2.06 2.06-.94-2.06-.94-.94-2.06-.94 2.06-2.06.94z\"/><path d=\"M17.41 7.96l-1.37-1.37c-.4-.4-.92-.59-1.43-.59-.52 0-1.04.2-1.43.59L10.3 9.45l-7.72 7.72c-.78.78-.78 2.05 0 2.83L4 21.41c.39.39.9.59 1.41.59.51 0 1.02-.2 1.41-.59l7.78-7.78 2.81-2.81c.8-.78.8-2.07 0-2.86zM5.41 20L4 18.59l7.72-7.72 1.47 1.35L5.41 20z\"/>\n",
       "  </svg>\n",
       "      </button>\n",
       "      \n",
       "  <style>\n",
       "    .colab-df-container {\n",
       "      display:flex;\n",
       "      flex-wrap:wrap;\n",
       "      gap: 12px;\n",
       "    }\n",
       "\n",
       "    .colab-df-convert {\n",
       "      background-color: #E8F0FE;\n",
       "      border: none;\n",
       "      border-radius: 50%;\n",
       "      cursor: pointer;\n",
       "      display: none;\n",
       "      fill: #1967D2;\n",
       "      height: 32px;\n",
       "      padding: 0 0 0 0;\n",
       "      width: 32px;\n",
       "    }\n",
       "\n",
       "    .colab-df-convert:hover {\n",
       "      background-color: #E2EBFA;\n",
       "      box-shadow: 0px 1px 2px rgba(60, 64, 67, 0.3), 0px 1px 3px 1px rgba(60, 64, 67, 0.15);\n",
       "      fill: #174EA6;\n",
       "    }\n",
       "\n",
       "    [theme=dark] .colab-df-convert {\n",
       "      background-color: #3B4455;\n",
       "      fill: #D2E3FC;\n",
       "    }\n",
       "\n",
       "    [theme=dark] .colab-df-convert:hover {\n",
       "      background-color: #434B5C;\n",
       "      box-shadow: 0px 1px 3px 1px rgba(0, 0, 0, 0.15);\n",
       "      filter: drop-shadow(0px 1px 2px rgba(0, 0, 0, 0.3));\n",
       "      fill: #FFFFFF;\n",
       "    }\n",
       "  </style>\n",
       "\n",
       "      <script>\n",
       "        const buttonEl =\n",
       "          document.querySelector('#df-c82148f1-28d3-4b6c-a6f6-a2102e56f736 button.colab-df-convert');\n",
       "        buttonEl.style.display =\n",
       "          google.colab.kernel.accessAllowed ? 'block' : 'none';\n",
       "\n",
       "        async function convertToInteractive(key) {\n",
       "          const element = document.querySelector('#df-c82148f1-28d3-4b6c-a6f6-a2102e56f736');\n",
       "          const dataTable =\n",
       "            await google.colab.kernel.invokeFunction('convertToInteractive',\n",
       "                                                     [key], {});\n",
       "          if (!dataTable) return;\n",
       "\n",
       "          const docLinkHtml = 'Like what you see? Visit the ' +\n",
       "            '<a target=\"_blank\" href=https://colab.research.google.com/notebooks/data_table.ipynb>data table notebook</a>'\n",
       "            + ' to learn more about interactive tables.';\n",
       "          element.innerHTML = '';\n",
       "          dataTable['output_type'] = 'display_data';\n",
       "          await google.colab.output.renderOutput(dataTable, element);\n",
       "          const docLink = document.createElement('div');\n",
       "          docLink.innerHTML = docLinkHtml;\n",
       "          element.appendChild(docLink);\n",
       "        }\n",
       "      </script>\n",
       "    </div>\n",
       "  </div>\n",
       "  "
      ],
      "text/plain": [
       "     location  country  gender   age  ...  symptom5  symptom6  diff_sym_hos  result\n",
       "223        56       18       1  35.0  ...         3         1            -1       0\n",
       "240       128       18       1  65.0  ...         3         1            -5       0\n",
       "\n",
       "[2 rows x 14 columns]"
      ]
     },
     "execution_count": 5,
     "metadata": {},
     "output_type": "execute_result"
    }
   ],
   "source": [
    "#find the outlier\n",
    "data[data.diff_sym_hos < 0]"
   ]
  },
  {
   "cell_type": "code",
   "execution_count": 5,
   "id": "f0caa60c",
   "metadata": {
    "id": "f0caa60c"
   },
   "outputs": [],
   "source": [
    "#remove the outlier\n",
    "data.drop([223,240],axis = 0, inplace=True)"
   ]
  },
  {
   "cell_type": "code",
   "execution_count": null,
   "id": "8331bd82",
   "metadata": {
    "colab": {
     "base_uri": "https://localhost:8080/",
     "height": 364
    },
    "id": "8331bd82",
    "outputId": "f403ee26-6cf2-4d99-bf06-6ac564dd74a5"
   },
   "outputs": [
    {
     "data": {
      "text/html": [
       "\n",
       "  <div id=\"df-271d4142-cda4-4aa8-9290-8e0f384b63a8\">\n",
       "    <div class=\"colab-df-container\">\n",
       "      <div>\n",
       "<style scoped>\n",
       "    .dataframe tbody tr th:only-of-type {\n",
       "        vertical-align: middle;\n",
       "    }\n",
       "\n",
       "    .dataframe tbody tr th {\n",
       "        vertical-align: top;\n",
       "    }\n",
       "\n",
       "    .dataframe thead th {\n",
       "        text-align: right;\n",
       "    }\n",
       "</style>\n",
       "<table border=\"1\" class=\"dataframe\">\n",
       "  <thead>\n",
       "    <tr style=\"text-align: right;\">\n",
       "      <th></th>\n",
       "      <th>location</th>\n",
       "      <th>country</th>\n",
       "      <th>gender</th>\n",
       "      <th>age</th>\n",
       "      <th>vis_wuhan</th>\n",
       "      <th>from_wuhan</th>\n",
       "      <th>symptom1</th>\n",
       "      <th>symptom2</th>\n",
       "      <th>symptom3</th>\n",
       "      <th>symptom4</th>\n",
       "      <th>symptom5</th>\n",
       "      <th>symptom6</th>\n",
       "      <th>diff_sym_hos</th>\n",
       "      <th>result</th>\n",
       "    </tr>\n",
       "  </thead>\n",
       "  <tbody>\n",
       "    <tr>\n",
       "      <th>count</th>\n",
       "      <td>861.000000</td>\n",
       "      <td>861.000000</td>\n",
       "      <td>861.000000</td>\n",
       "      <td>861.000000</td>\n",
       "      <td>861.000000</td>\n",
       "      <td>861.000000</td>\n",
       "      <td>861.000000</td>\n",
       "      <td>861.000000</td>\n",
       "      <td>861.000000</td>\n",
       "      <td>861.000000</td>\n",
       "      <td>861.000000</td>\n",
       "      <td>861.000000</td>\n",
       "      <td>861.000000</td>\n",
       "      <td>861.000000</td>\n",
       "    </tr>\n",
       "    <tr>\n",
       "      <th>mean</th>\n",
       "      <td>76.609756</td>\n",
       "      <td>16.993031</td>\n",
       "      <td>0.849013</td>\n",
       "      <td>49.398606</td>\n",
       "      <td>0.182346</td>\n",
       "      <td>0.108014</td>\n",
       "      <td>12.153310</td>\n",
       "      <td>27.995354</td>\n",
       "      <td>18.297329</td>\n",
       "      <td>11.839721</td>\n",
       "      <td>2.993031</td>\n",
       "      <td>0.998839</td>\n",
       "      <td>1.004646</td>\n",
       "      <td>0.125436</td>\n",
       "    </tr>\n",
       "    <tr>\n",
       "      <th>std</th>\n",
       "      <td>39.200393</td>\n",
       "      <td>7.818877</td>\n",
       "      <td>0.726869</td>\n",
       "      <td>15.079359</td>\n",
       "      <td>0.386354</td>\n",
       "      <td>0.310578</td>\n",
       "      <td>3.991526</td>\n",
       "      <td>7.480516</td>\n",
       "      <td>2.867193</td>\n",
       "      <td>1.185122</td>\n",
       "      <td>0.127399</td>\n",
       "      <td>0.034080</td>\n",
       "      <td>2.351640</td>\n",
       "      <td>0.331405</td>\n",
       "    </tr>\n",
       "    <tr>\n",
       "      <th>min</th>\n",
       "      <td>0.000000</td>\n",
       "      <td>0.000000</td>\n",
       "      <td>0.000000</td>\n",
       "      <td>2.000000</td>\n",
       "      <td>0.000000</td>\n",
       "      <td>0.000000</td>\n",
       "      <td>0.000000</td>\n",
       "      <td>0.000000</td>\n",
       "      <td>0.000000</td>\n",
       "      <td>0.000000</td>\n",
       "      <td>0.000000</td>\n",
       "      <td>0.000000</td>\n",
       "      <td>0.000000</td>\n",
       "      <td>0.000000</td>\n",
       "    </tr>\n",
       "    <tr>\n",
       "      <th>25%</th>\n",
       "      <td>45.000000</td>\n",
       "      <td>11.000000</td>\n",
       "      <td>0.000000</td>\n",
       "      <td>40.000000</td>\n",
       "      <td>0.000000</td>\n",
       "      <td>0.000000</td>\n",
       "      <td>14.000000</td>\n",
       "      <td>31.000000</td>\n",
       "      <td>19.000000</td>\n",
       "      <td>12.000000</td>\n",
       "      <td>3.000000</td>\n",
       "      <td>1.000000</td>\n",
       "      <td>0.000000</td>\n",
       "      <td>0.000000</td>\n",
       "    </tr>\n",
       "    <tr>\n",
       "      <th>50%</th>\n",
       "      <td>87.000000</td>\n",
       "      <td>18.000000</td>\n",
       "      <td>1.000000</td>\n",
       "      <td>49.400000</td>\n",
       "      <td>0.000000</td>\n",
       "      <td>0.000000</td>\n",
       "      <td>14.000000</td>\n",
       "      <td>31.000000</td>\n",
       "      <td>19.000000</td>\n",
       "      <td>12.000000</td>\n",
       "      <td>3.000000</td>\n",
       "      <td>1.000000</td>\n",
       "      <td>0.000000</td>\n",
       "      <td>0.000000</td>\n",
       "    </tr>\n",
       "    <tr>\n",
       "      <th>75%</th>\n",
       "      <td>110.000000</td>\n",
       "      <td>24.000000</td>\n",
       "      <td>1.000000</td>\n",
       "      <td>57.000000</td>\n",
       "      <td>0.000000</td>\n",
       "      <td>0.000000</td>\n",
       "      <td>14.000000</td>\n",
       "      <td>31.000000</td>\n",
       "      <td>19.000000</td>\n",
       "      <td>12.000000</td>\n",
       "      <td>3.000000</td>\n",
       "      <td>1.000000</td>\n",
       "      <td>1.000000</td>\n",
       "      <td>0.000000</td>\n",
       "    </tr>\n",
       "    <tr>\n",
       "      <th>max</th>\n",
       "      <td>138.000000</td>\n",
       "      <td>33.000000</td>\n",
       "      <td>2.000000</td>\n",
       "      <td>96.000000</td>\n",
       "      <td>1.000000</td>\n",
       "      <td>1.000000</td>\n",
       "      <td>24.000000</td>\n",
       "      <td>31.000000</td>\n",
       "      <td>19.000000</td>\n",
       "      <td>12.000000</td>\n",
       "      <td>3.000000</td>\n",
       "      <td>1.000000</td>\n",
       "      <td>15.000000</td>\n",
       "      <td>1.000000</td>\n",
       "    </tr>\n",
       "  </tbody>\n",
       "</table>\n",
       "</div>\n",
       "      <button class=\"colab-df-convert\" onclick=\"convertToInteractive('df-271d4142-cda4-4aa8-9290-8e0f384b63a8')\"\n",
       "              title=\"Convert this dataframe to an interactive table.\"\n",
       "              style=\"display:none;\">\n",
       "        \n",
       "  <svg xmlns=\"http://www.w3.org/2000/svg\" height=\"24px\"viewBox=\"0 0 24 24\"\n",
       "       width=\"24px\">\n",
       "    <path d=\"M0 0h24v24H0V0z\" fill=\"none\"/>\n",
       "    <path d=\"M18.56 5.44l.94 2.06.94-2.06 2.06-.94-2.06-.94-.94-2.06-.94 2.06-2.06.94zm-11 1L8.5 8.5l.94-2.06 2.06-.94-2.06-.94L8.5 2.5l-.94 2.06-2.06.94zm10 10l.94 2.06.94-2.06 2.06-.94-2.06-.94-.94-2.06-.94 2.06-2.06.94z\"/><path d=\"M17.41 7.96l-1.37-1.37c-.4-.4-.92-.59-1.43-.59-.52 0-1.04.2-1.43.59L10.3 9.45l-7.72 7.72c-.78.78-.78 2.05 0 2.83L4 21.41c.39.39.9.59 1.41.59.51 0 1.02-.2 1.41-.59l7.78-7.78 2.81-2.81c.8-.78.8-2.07 0-2.86zM5.41 20L4 18.59l7.72-7.72 1.47 1.35L5.41 20z\"/>\n",
       "  </svg>\n",
       "      </button>\n",
       "      \n",
       "  <style>\n",
       "    .colab-df-container {\n",
       "      display:flex;\n",
       "      flex-wrap:wrap;\n",
       "      gap: 12px;\n",
       "    }\n",
       "\n",
       "    .colab-df-convert {\n",
       "      background-color: #E8F0FE;\n",
       "      border: none;\n",
       "      border-radius: 50%;\n",
       "      cursor: pointer;\n",
       "      display: none;\n",
       "      fill: #1967D2;\n",
       "      height: 32px;\n",
       "      padding: 0 0 0 0;\n",
       "      width: 32px;\n",
       "    }\n",
       "\n",
       "    .colab-df-convert:hover {\n",
       "      background-color: #E2EBFA;\n",
       "      box-shadow: 0px 1px 2px rgba(60, 64, 67, 0.3), 0px 1px 3px 1px rgba(60, 64, 67, 0.15);\n",
       "      fill: #174EA6;\n",
       "    }\n",
       "\n",
       "    [theme=dark] .colab-df-convert {\n",
       "      background-color: #3B4455;\n",
       "      fill: #D2E3FC;\n",
       "    }\n",
       "\n",
       "    [theme=dark] .colab-df-convert:hover {\n",
       "      background-color: #434B5C;\n",
       "      box-shadow: 0px 1px 3px 1px rgba(0, 0, 0, 0.15);\n",
       "      filter: drop-shadow(0px 1px 2px rgba(0, 0, 0, 0.3));\n",
       "      fill: #FFFFFF;\n",
       "    }\n",
       "  </style>\n",
       "\n",
       "      <script>\n",
       "        const buttonEl =\n",
       "          document.querySelector('#df-271d4142-cda4-4aa8-9290-8e0f384b63a8 button.colab-df-convert');\n",
       "        buttonEl.style.display =\n",
       "          google.colab.kernel.accessAllowed ? 'block' : 'none';\n",
       "\n",
       "        async function convertToInteractive(key) {\n",
       "          const element = document.querySelector('#df-271d4142-cda4-4aa8-9290-8e0f384b63a8');\n",
       "          const dataTable =\n",
       "            await google.colab.kernel.invokeFunction('convertToInteractive',\n",
       "                                                     [key], {});\n",
       "          if (!dataTable) return;\n",
       "\n",
       "          const docLinkHtml = 'Like what you see? Visit the ' +\n",
       "            '<a target=\"_blank\" href=https://colab.research.google.com/notebooks/data_table.ipynb>data table notebook</a>'\n",
       "            + ' to learn more about interactive tables.';\n",
       "          element.innerHTML = '';\n",
       "          dataTable['output_type'] = 'display_data';\n",
       "          await google.colab.output.renderOutput(dataTable, element);\n",
       "          const docLink = document.createElement('div');\n",
       "          docLink.innerHTML = docLinkHtml;\n",
       "          element.appendChild(docLink);\n",
       "        }\n",
       "      </script>\n",
       "    </div>\n",
       "  </div>\n",
       "  "
      ],
      "text/plain": [
       "         location     country      gender  ...    symptom6  diff_sym_hos      result\n",
       "count  861.000000  861.000000  861.000000  ...  861.000000    861.000000  861.000000\n",
       "mean    76.609756   16.993031    0.849013  ...    0.998839      1.004646    0.125436\n",
       "std     39.200393    7.818877    0.726869  ...    0.034080      2.351640    0.331405\n",
       "min      0.000000    0.000000    0.000000  ...    0.000000      0.000000    0.000000\n",
       "25%     45.000000   11.000000    0.000000  ...    1.000000      0.000000    0.000000\n",
       "50%     87.000000   18.000000    1.000000  ...    1.000000      0.000000    0.000000\n",
       "75%    110.000000   24.000000    1.000000  ...    1.000000      1.000000    0.000000\n",
       "max    138.000000   33.000000    2.000000  ...    1.000000     15.000000    1.000000\n",
       "\n",
       "[8 rows x 14 columns]"
      ]
     },
     "execution_count": 7,
     "metadata": {},
     "output_type": "execute_result"
    }
   ],
   "source": [
    "data.describe()"
   ]
  },
  {
   "cell_type": "code",
   "execution_count": null,
   "id": "baf0494d",
   "metadata": {
    "colab": {
     "base_uri": "https://localhost:8080/"
    },
    "id": "baf0494d",
    "outputId": "101b96db-82c2-412b-fc6a-96a1316d74d2"
   },
   "outputs": [
    {
     "data": {
      "text/plain": [
       "array([ 0,  1,  2,  3,  4,  5,  6,  7,  8,  9, 10, 11, 12, 13, 14, 15, 16,\n",
       "       17, 18, 19, 20, 21, 22, 23, 24, 25, 26, 27, 28, 29, 30, 31])"
      ]
     },
     "execution_count": 8,
     "metadata": {},
     "output_type": "execute_result"
    }
   ],
   "source": [
    "np.unique(data['symptom2'])"
   ]
  },
  {
   "cell_type": "code",
   "execution_count": null,
   "id": "894bb70a",
   "metadata": {
    "colab": {
     "base_uri": "https://localhost:8080/"
    },
    "id": "894bb70a",
    "outputId": "e22d8d77-1b24-4887-ca4d-94199e6dac8f"
   },
   "outputs": [
    {
     "data": {
      "text/plain": [
       "0    753\n",
       "1    108\n",
       "Name: result, dtype: int64"
      ]
     },
     "execution_count": 9,
     "metadata": {},
     "output_type": "execute_result"
    }
   ],
   "source": [
    "data.result.value_counts()"
   ]
  },
  {
   "cell_type": "code",
   "execution_count": 3,
   "id": "30a85a32",
   "metadata": {
    "colab": {
     "base_uri": "https://localhost:8080/",
     "height": 281
    },
    "id": "30a85a32",
    "outputId": "d7681d8d-c641-4084-8aa3-50272f30426d"
   },
   "outputs": [
    {
     "data": {
      "text/plain": [
       "<AxesSubplot:title={'center':'Gender percentage'}>"
      ]
     },
     "execution_count": 3,
     "metadata": {},
     "output_type": "execute_result"
    },
    {
     "data": {
      "image/png": "[encoded data removed]",
      "text/plain": [
       "<Figure size 432x288 with 1 Axes>"
      ]
     },
     "metadata": {},
     "output_type": "display_data"
    }
   ],
   "source": [
    "lab = data['gender'].value_counts()\n",
    "lab.plot.pie(title ='Gender percentage', ylabel='', autopct='%1.1f%%')"
   ]
  },
  {
   "cell_type": "code",
   "execution_count": 4,
   "id": "1c253dcb",
   "metadata": {
    "colab": {
     "base_uri": "https://localhost:8080/",
     "height": 488
    },
    "id": "1c253dcb",
    "outputId": "079ed1be-4f89-4e56-846d-84d374962a7b"
   },
   "outputs": [
    {
     "data": {
      "text/html": [
       "<div>\n",
       "<style scoped>\n",
       "    .dataframe tbody tr th:only-of-type {\n",
       "        vertical-align: middle;\n",
       "    }\n",
       "\n",
       "    .dataframe tbody tr th {\n",
       "        vertical-align: top;\n",
       "    }\n",
       "\n",
       "    .dataframe thead th {\n",
       "        text-align: right;\n",
       "    }\n",
       "</style>\n",
       "<table border=\"1\" class=\"dataframe\">\n",
       "  <thead>\n",
       "    <tr style=\"text-align: right;\">\n",
       "      <th></th>\n",
       "      <th>location</th>\n",
       "      <th>country</th>\n",
       "      <th>age</th>\n",
       "      <th>vis_wuhan</th>\n",
       "      <th>from_wuhan</th>\n",
       "      <th>symptom1</th>\n",
       "      <th>symptom2</th>\n",
       "      <th>symptom3</th>\n",
       "      <th>symptom4</th>\n",
       "      <th>symptom5</th>\n",
       "      <th>symptom6</th>\n",
       "      <th>diff_sym_hos</th>\n",
       "      <th>result</th>\n",
       "    </tr>\n",
       "  </thead>\n",
       "  <tbody>\n",
       "    <tr>\n",
       "      <th>0</th>\n",
       "      <td>104</td>\n",
       "      <td>8</td>\n",
       "      <td>66.0</td>\n",
       "      <td>1</td>\n",
       "      <td>0</td>\n",
       "      <td>14</td>\n",
       "      <td>31</td>\n",
       "      <td>19</td>\n",
       "      <td>12</td>\n",
       "      <td>3</td>\n",
       "      <td>1</td>\n",
       "      <td>8</td>\n",
       "      <td>1</td>\n",
       "    </tr>\n",
       "    <tr>\n",
       "      <th>1</th>\n",
       "      <td>101</td>\n",
       "      <td>8</td>\n",
       "      <td>56.0</td>\n",
       "      <td>0</td>\n",
       "      <td>1</td>\n",
       "      <td>14</td>\n",
       "      <td>31</td>\n",
       "      <td>19</td>\n",
       "      <td>12</td>\n",
       "      <td>3</td>\n",
       "      <td>1</td>\n",
       "      <td>0</td>\n",
       "      <td>0</td>\n",
       "    </tr>\n",
       "    <tr>\n",
       "      <th>2</th>\n",
       "      <td>137</td>\n",
       "      <td>8</td>\n",
       "      <td>46.0</td>\n",
       "      <td>0</td>\n",
       "      <td>1</td>\n",
       "      <td>14</td>\n",
       "      <td>31</td>\n",
       "      <td>19</td>\n",
       "      <td>12</td>\n",
       "      <td>3</td>\n",
       "      <td>1</td>\n",
       "      <td>13</td>\n",
       "      <td>0</td>\n",
       "    </tr>\n",
       "    <tr>\n",
       "      <th>3</th>\n",
       "      <td>116</td>\n",
       "      <td>8</td>\n",
       "      <td>60.0</td>\n",
       "      <td>1</td>\n",
       "      <td>0</td>\n",
       "      <td>14</td>\n",
       "      <td>31</td>\n",
       "      <td>19</td>\n",
       "      <td>12</td>\n",
       "      <td>3</td>\n",
       "      <td>1</td>\n",
       "      <td>0</td>\n",
       "      <td>0</td>\n",
       "    </tr>\n",
       "    <tr>\n",
       "      <th>4</th>\n",
       "      <td>116</td>\n",
       "      <td>8</td>\n",
       "      <td>58.0</td>\n",
       "      <td>0</td>\n",
       "      <td>0</td>\n",
       "      <td>14</td>\n",
       "      <td>31</td>\n",
       "      <td>19</td>\n",
       "      <td>12</td>\n",
       "      <td>3</td>\n",
       "      <td>1</td>\n",
       "      <td>0</td>\n",
       "      <td>0</td>\n",
       "    </tr>\n",
       "    <tr>\n",
       "      <th>...</th>\n",
       "      <td>...</td>\n",
       "      <td>...</td>\n",
       "      <td>...</td>\n",
       "      <td>...</td>\n",
       "      <td>...</td>\n",
       "      <td>...</td>\n",
       "      <td>...</td>\n",
       "      <td>...</td>\n",
       "      <td>...</td>\n",
       "      <td>...</td>\n",
       "      <td>...</td>\n",
       "      <td>...</td>\n",
       "      <td>...</td>\n",
       "    </tr>\n",
       "    <tr>\n",
       "      <th>858</th>\n",
       "      <td>48</td>\n",
       "      <td>3</td>\n",
       "      <td>24.0</td>\n",
       "      <td>0</td>\n",
       "      <td>0</td>\n",
       "      <td>14</td>\n",
       "      <td>31</td>\n",
       "      <td>19</td>\n",
       "      <td>12</td>\n",
       "      <td>3</td>\n",
       "      <td>1</td>\n",
       "      <td>0</td>\n",
       "      <td>1</td>\n",
       "    </tr>\n",
       "    <tr>\n",
       "      <th>859</th>\n",
       "      <td>0</td>\n",
       "      <td>0</td>\n",
       "      <td>35.0</td>\n",
       "      <td>0</td>\n",
       "      <td>0</td>\n",
       "      <td>14</td>\n",
       "      <td>31</td>\n",
       "      <td>19</td>\n",
       "      <td>12</td>\n",
       "      <td>3</td>\n",
       "      <td>1</td>\n",
       "      <td>0</td>\n",
       "      <td>0</td>\n",
       "    </tr>\n",
       "    <tr>\n",
       "      <th>860</th>\n",
       "      <td>3</td>\n",
       "      <td>1</td>\n",
       "      <td>49.4</td>\n",
       "      <td>0</td>\n",
       "      <td>0</td>\n",
       "      <td>14</td>\n",
       "      <td>31</td>\n",
       "      <td>19</td>\n",
       "      <td>12</td>\n",
       "      <td>3</td>\n",
       "      <td>1</td>\n",
       "      <td>0</td>\n",
       "      <td>0</td>\n",
       "    </tr>\n",
       "    <tr>\n",
       "      <th>861</th>\n",
       "      <td>24</td>\n",
       "      <td>9</td>\n",
       "      <td>49.4</td>\n",
       "      <td>0</td>\n",
       "      <td>0</td>\n",
       "      <td>14</td>\n",
       "      <td>31</td>\n",
       "      <td>19</td>\n",
       "      <td>12</td>\n",
       "      <td>3</td>\n",
       "      <td>1</td>\n",
       "      <td>0</td>\n",
       "      <td>0</td>\n",
       "    </tr>\n",
       "    <tr>\n",
       "      <th>862</th>\n",
       "      <td>15</td>\n",
       "      <td>27</td>\n",
       "      <td>70.0</td>\n",
       "      <td>0</td>\n",
       "      <td>0</td>\n",
       "      <td>14</td>\n",
       "      <td>31</td>\n",
       "      <td>19</td>\n",
       "      <td>12</td>\n",
       "      <td>3</td>\n",
       "      <td>1</td>\n",
       "      <td>0</td>\n",
       "      <td>0</td>\n",
       "    </tr>\n",
       "  </tbody>\n",
       "</table>\n",
       "<p>863 rows × 13 columns</p>\n",
       "</div>"
      ],
      "text/plain": [
       "     location  country   age  vis_wuhan  from_wuhan  symptom1  symptom2  \\\n",
       "0         104        8  66.0          1           0        14        31   \n",
       "1         101        8  56.0          0           1        14        31   \n",
       "2         137        8  46.0          0           1        14        31   \n",
       "3         116        8  60.0          1           0        14        31   \n",
       "4         116        8  58.0          0           0        14        31   \n",
       "..        ...      ...   ...        ...         ...       ...       ...   \n",
       "858        48        3  24.0          0           0        14        31   \n",
       "859         0        0  35.0          0           0        14        31   \n",
       "860         3        1  49.4          0           0        14        31   \n",
       "861        24        9  49.4          0           0        14        31   \n",
       "862        15       27  70.0          0           0        14        31   \n",
       "\n",
       "     symptom3  symptom4  symptom5  symptom6  diff_sym_hos  result  \n",
       "0          19        12         3         1             8       1  \n",
       "1          19        12         3         1             0       0  \n",
       "2          19        12         3         1            13       0  \n",
       "3          19        12         3         1             0       0  \n",
       "4          19        12         3         1             0       0  \n",
       "..        ...       ...       ...       ...           ...     ...  \n",
       "858        19        12         3         1             0       1  \n",
       "859        19        12         3         1             0       0  \n",
       "860        19        12         3         1             0       0  \n",
       "861        19        12         3         1             0       0  \n",
       "862        19        12         3         1             0       0  \n",
       "\n",
       "[863 rows x 13 columns]"
      ]
     },
     "execution_count": 4,
     "metadata": {},
     "output_type": "execute_result"
    }
   ],
   "source": [
    "#dropping gender there are problem with it \n",
    "df = data.copy()\n",
    "df.drop(\"gender\",axis = 1, inplace=True)\n",
    "df"
   ]
  },
  {
   "cell_type": "code",
   "execution_count": 5,
   "id": "97f8d541",
   "metadata": {
    "id": "97f8d541"
   },
   "outputs": [],
   "source": [
    "#hot encoding and merging \"location and \"country\" \n",
    "categorical_columns = ['location','country']\n",
    "for column in categorical_columns:\n",
    "    temp = pd.get_dummies(df[column], prefix=column)\n",
    "    df = pd.merge(\n",
    "        left=df,\n",
    "        right=temp,\n",
    "        left_index=True,\n",
    "        right_index=True,\n",
    "    )\n",
    "    df = df.drop(columns=column)"
   ]
  },
  {
   "cell_type": "code",
   "execution_count": 6,
   "id": "1846402f",
   "metadata": {
    "colab": {
     "background_save": true,
     "base_uri": "https://localhost:8080/",
     "height": 264
    },
    "id": "1846402f",
    "outputId": "afffc8ac-0293-40fb-8e04-ad8c28cf77a4"
   },
   "outputs": [
    {
     "data": {
      "image/png": "[encoded data removed]",
      "text/plain": [
       "<Figure size 432x288 with 1 Axes>"
      ]
     },
     "metadata": {},
     "output_type": "display_data"
    }
   ],
   "source": [
    "labels=df['result'].astype('category').cat.categories.tolist()\n",
    "counts=df.result.value_counts()\n",
    "sizes = [counts[var_cat] for var_cat in labels]\n",
    "fig1, ax1 = plt.subplots()\n",
    "ax1.pie(sizes, labels=labels, autopct='%1.1f%%', shadow=True)\n",
    "ax1.axis('equal')\n",
    "plt.title('Distribution of Result')\n",
    "plt.show()"
   ]
  },
  {
   "cell_type": "code",
   "execution_count": 7,
   "id": "0d1e6293",
   "metadata": {
    "colab": {
     "base_uri": "https://localhost:8080/",
     "height": 296
    },
    "id": "0d1e6293",
    "outputId": "2852f5c4-d9c4-42ac-e8b1-b802da97c424"
   },
   "outputs": [
    {
     "data": {
      "text/plain": [
       "<AxesSubplot:xlabel='result', ylabel='count'>"
      ]
     },
     "execution_count": 7,
     "metadata": {},
     "output_type": "execute_result"
    },
    {
     "data": {
      "image/png": "[encoded data removed]",
      "text/plain": [
       "<Figure size 432x288 with 1 Axes>"
      ]
     },
     "metadata": {
      "needs_background": "light"
     },
     "output_type": "display_data"
    }
   ],
   "source": [
    "sns.countplot(df.result)"
   ]
  },
  {
   "cell_type": "code",
   "execution_count": 13,
   "id": "4a26a991",
   "metadata": {},
   "outputs": [
    {
     "data": {
      "text/plain": [
       "<AxesSubplot:>"
      ]
     },
     "execution_count": 13,
     "metadata": {},
     "output_type": "execute_result"
    },
    {
     "data": {
      "image/png": "[encoded data removed]",
      "text/plain": [
       "<Figure size 432x288 with 2 Axes>"
      ]
     },
     "metadata": {
      "needs_background": "light"
     },
     "output_type": "display_data"
    }
   ],
   "source": [
    "sns.heatmap(data)"
   ]
  },
  {
   "cell_type": "code",
   "execution_count": null,
   "id": "c85695f3",
   "metadata": {},
   "outputs": [],
   "source": []
  },
  {
   "cell_type": "markdown",
   "id": "1305554c",
   "metadata": {
    "id": "1305554c"
   },
   "source": [
    "<h6 style=\"property:value;color:blue;font-size:200%; \">2- part2 without solve the imbalance problem</h6>\n",
    "<pre>You will have to divide the data into three partitions: training, validation, and testing. You need to\n",
    "design the following classifiers:\n",
    "1. K-Nearest Neighbors\n",
    "2. Logistic Regression\n",
    "3. Naïve Bayes\n",
    "4. Decision Trees\n",
    "5. Support Vector Machines\n",
    "For each classifier, try to find the optimal hyperparameters.\n",
    "You also need to compare the performance of all classifiers using different metrics such as the\n",
    "precision, recall, F1-score, and ROC/AUC curves.\n",
    "</pre>"
   ]
  },
  {
   "cell_type": "markdown",
   "id": "e2771122",
   "metadata": {
    "id": "e2771122"
   },
   "source": [
    "<h6 style=\"property:value;color:Tan;font-size:200%; \">a- Splitting data</h6>\n"
   ]
  },
  {
   "cell_type": "code",
   "execution_count": 8,
   "id": "341f73f1",
   "metadata": {
    "id": "341f73f1"
   },
   "outputs": [],
   "source": [
    "x=df.drop('result',axis=1)\n",
    "y=df['result']"
   ]
  },
  {
   "cell_type": "code",
   "execution_count": 9,
   "id": "cb54989c",
   "metadata": {
    "colab": {
     "base_uri": "https://localhost:8080/"
    },
    "id": "cb54989c",
    "outputId": "9cb70ef8-9c4f-4c22-aff4-41d36b700b7b"
   },
   "outputs": [
    {
     "data": {
      "text/plain": [
       "array([[ 0.6544187 ,  1.46107129, -0.34092851, ..., -0.12856487,\n",
       "        -0.13265001, -0.09683237],\n",
       "       [ 0.36274435, -0.46513845,  2.41065112, ..., -0.12856487,\n",
       "        -0.13265001, -0.09683237],\n",
       "       [-0.22313197, -0.46513845,  2.69193014, ..., -0.12856487,\n",
       "        -0.13265001, -0.09683237],\n",
       "       ...,\n",
       "       [ 0.07727726, -0.46513845, -0.34092851, ..., -0.12856487,\n",
       "        -0.13265001, -0.09683237],\n",
       "       [ 0.07727726, -0.46513845, -0.34092851, ..., -0.12856487,\n",
       "        -0.13265001, -0.09683237],\n",
       "       [ 0.79212957, -0.46513845, -0.34092851, ..., -0.12856487,\n",
       "        -0.13265001, -0.09683237]])"
      ]
     },
     "execution_count": 9,
     "metadata": {},
     "output_type": "execute_result"
    }
   ],
   "source": [
    "#Normalizing and selecting data\n",
    "t = preprocessing.normalize(x)\n",
    "names = x.columns.values.tolist()\n",
    "x = pd.DataFrame(t, columns = names)\n",
    "x = StandardScaler().fit_transform(x)\n",
    "x"
   ]
  },
  {
   "cell_type": "code",
   "execution_count": 10,
   "id": "1c67db3a",
   "metadata": {
    "colab": {
     "base_uri": "https://localhost:8080/"
    },
    "id": "1c67db3a",
    "outputId": "7fd018b9-9cfe-4cc4-c616-3a1bc40af51f"
   },
   "outputs": [
    {
     "data": {
      "text/plain": [
       "(861, 183)"
      ]
     },
     "execution_count": 10,
     "metadata": {},
     "output_type": "execute_result"
    }
   ],
   "source": [
    "x.shape"
   ]
  },
  {
   "cell_type": "code",
   "execution_count": 11,
   "id": "6a23b44f",
   "metadata": {
    "id": "6a23b44f"
   },
   "outputs": [],
   "source": [
    "#Splitting data to train ,validation and Test (80,10,10)\n",
    "X_train, X_both, y_train, y_both = train_test_split(x, y, test_size = 0.2, random_state=3)\n",
    "X_test, X_valid, y_test, y_valid = train_test_split(X_both, y_both, test_size = 0.5, random_state=3)"
   ]
  },
  {
   "cell_type": "markdown",
   "id": "bbdf0c3e",
   "metadata": {
    "id": "bbdf0c3e"
   },
   "source": [
    "<h6 style=\"property:value;color:Tan;font-size:200%; \">b- Models</h6>"
   ]
  },
  {
   "cell_type": "markdown",
   "id": "39f4d6fe",
   "metadata": {
    "id": "39f4d6fe"
   },
   "source": [
    "# 1. K-Nearest Neighbors "
   ]
  },
  {
   "cell_type": "code",
   "execution_count": null,
   "id": "50de0262",
   "metadata": {
    "colab": {
     "base_uri": "https://localhost:8080/"
    },
    "id": "50de0262",
    "outputId": "050cfcb7-01c1-463a-9cf4-90225012b857"
   },
   "outputs": [
    {
     "name": "stdout",
     "output_type": "stream",
     "text": [
      "              precision    recall  f1-score   support\n",
      "\n",
      "           0       0.99      0.95      0.97        81\n",
      "           1       0.56      0.83      0.67         6\n",
      "\n",
      "    accuracy                           0.94        87\n",
      "   macro avg       0.77      0.89      0.82        87\n",
      "weighted avg       0.96      0.94      0.95        87\n",
      "\n",
      "confusion_matrix:[[77  4]\n",
      " [ 1  5]]\n",
      "f1_score=0.6666666666666667\n"
     ]
    }
   ],
   "source": [
    "knn = KNeighborsClassifier(n_neighbors=5)\n",
    "knn.fit(X_train, y_train)\n",
    "y_pred = knn.predict(X_valid)\n",
    "print(classification_report(y_valid, y_pred))\n",
    "print(f\"confusion_matrix:{confusion_matrix(y_valid, y_pred)}\")\n",
    "print(f\"f1_score={f1_score(y_valid, y_pred, average='binary')}\")"
   ]
  },
  {
   "cell_type": "code",
   "execution_count": null,
   "id": "0a4baec5",
   "metadata": {
    "colab": {
     "base_uri": "https://localhost:8080/"
    },
    "id": "0a4baec5",
    "outputId": "969f7e53-73b0-445d-cf8e-e234aee011c4"
   },
   "outputs": [
    {
     "name": "stdout",
     "output_type": "stream",
     "text": [
      "The optimal k is 1 with value 0.9228571428571428\n"
     ]
    }
   ],
   "source": [
    "#find the optimal hyperparameters knn\n",
    "l = []\n",
    "# Loop over K values\n",
    "for i, k in enumerate(np.arange(1, 10)):\n",
    "    knn = KNeighborsClassifier(n_neighbors=k)\n",
    "    y_pred = cross_val_score(knn, X_train, y_train, cv=20).mean()\n",
    "    l.append(y_pred)\n",
    "    if y_pred >= max(l):\n",
    "        maxn = k\n",
    "    \n",
    "print(f\"The optimal k is {maxn} with value {max(l)}\")  "
   ]
  },
  {
   "cell_type": "code",
   "execution_count": null,
   "id": "62741b3b",
   "metadata": {
    "colab": {
     "base_uri": "https://localhost:8080/"
    },
    "id": "62741b3b",
    "outputId": "285c7d39-e641-434b-c22b-635c98ca88ee"
   },
   "outputs": [
    {
     "name": "stdout",
     "output_type": "stream",
     "text": [
      "              precision    recall  f1-score   support\n",
      "\n",
      "           0       0.99      0.99      0.99        81\n",
      "           1       0.83      0.83      0.83         6\n",
      "\n",
      "    accuracy                           0.98        87\n",
      "   macro avg       0.91      0.91      0.91        87\n",
      "weighted avg       0.98      0.98      0.98        87\n",
      "\n",
      "confusion_matrix:[[80  1]\n",
      " [ 1  5]]\n",
      "f1_score=0.8333333333333334\n"
     ]
    }
   ],
   "source": [
    "#Validation with the optimal k\n",
    "knn = KNeighborsClassifier(n_neighbors=1, algorithm = 'brute')\n",
    "knn.fit(X_train, y_train)\n",
    "y_pred = knn.predict(X_valid)\n",
    "print(classification_report(y_valid, y_pred))\n",
    "print(f\"confusion_matrix:{confusion_matrix(y_valid, y_pred)}\")\n",
    "print(f\"f1_score={f1_score(y_valid, y_pred, average='binary')}\")"
   ]
  },
  {
   "cell_type": "markdown",
   "id": "9eefe89f",
   "metadata": {
    "id": "9eefe89f"
   },
   "source": [
    "# 2. Logistic Regression"
   ]
  },
  {
   "cell_type": "code",
   "execution_count": null,
   "id": "d653d8fd",
   "metadata": {
    "colab": {
     "base_uri": "https://localhost:8080/"
    },
    "id": "d653d8fd",
    "outputId": "1431b09a-44fd-433d-c826-78d47e320c6d"
   },
   "outputs": [
    {
     "name": "stdout",
     "output_type": "stream",
     "text": [
      "              precision    recall  f1-score   support\n",
      "\n",
      "           0       1.00      1.00      1.00        81\n",
      "           1       1.00      1.00      1.00         6\n",
      "\n",
      "    accuracy                           1.00        87\n",
      "   macro avg       1.00      1.00      1.00        87\n",
      "weighted avg       1.00      1.00      1.00        87\n",
      "\n",
      "confusion_matrix:[[81  0]\n",
      " [ 0  6]]\n",
      "f1_score=1.0\n"
     ]
    }
   ],
   "source": [
    "lr = LogisticRegression()\n",
    "lr.fit(X_train, y_train)\n",
    "y_pred = lr.predict(X_valid)\n",
    "print(classification_report(y_valid, y_pred))\n",
    "print(f\"confusion_matrix:{confusion_matrix(y_valid, y_pred)}\")\n",
    "print(f\"f1_score={f1_score(y_valid, y_pred, average='binary')}\")"
   ]
  },
  {
   "cell_type": "code",
   "execution_count": null,
   "id": "733b8e51",
   "metadata": {
    "colab": {
     "base_uri": "https://localhost:8080/"
    },
    "id": "733b8e51",
    "outputId": "ecf212b9-fed2-41d8-fd44-0e305947ed96"
   },
   "outputs": [
    {
     "name": "stdout",
     "output_type": "stream",
     "text": [
      "Fitting 17 folds for each of 36 candidates, totalling 612 fits\n"
     ]
    }
   ],
   "source": [
    "#find the optimal hyperparameters\n",
    "LR = LogisticRegression()\n",
    "LRparam_grid = {\n",
    "    'C': [0.01, 0.1, 1, 10, 100, 1000],\n",
    "    'penalty': ['none','l1', 'l2'],\n",
    "    'solver': ['lbfgs', 'liblinear']\n",
    "}\n",
    "LR_search = GridSearchCV(LR, param_grid = LRparam_grid, refit = True, verbose = 1, cv=17)\n",
    "\n",
    "# fitting the model for grid search \n",
    "LR_search.fit(X_train , y_train)\n",
    "\n",
    "all_param = []\n",
    "all_param= list(LR_search.best_params_.values())\n",
    "\n",
    "lr = LogisticRegression(C= all_param[0] , penalty= all_param[1], solver= all_param[2])\n",
    "lr.fit(X_train, y_train)\n",
    "y_pred = lr.predict(X_valid)"
   ]
  },
  {
   "cell_type": "code",
   "execution_count": null,
   "id": "7c47c3e6",
   "metadata": {
    "colab": {
     "base_uri": "https://localhost:8080/"
    },
    "id": "7c47c3e6",
    "outputId": "cc8cf45a-1635-4781-e1e1-aba4de53bf0e"
   },
   "outputs": [
    {
     "name": "stdout",
     "output_type": "stream",
     "text": [
      "              precision    recall  f1-score   support\n",
      "\n",
      "           0       1.00      0.96      0.98        81\n",
      "           1       0.67      1.00      0.80         6\n",
      "\n",
      "    accuracy                           0.97        87\n",
      "   macro avg       0.83      0.98      0.89        87\n",
      "weighted avg       0.98      0.97      0.97        87\n",
      "\n",
      "confusion_matrix:[[78  3]\n",
      " [ 0  6]]\n",
      "f1_score=0.8\n"
     ]
    }
   ],
   "source": [
    "print(classification_report(y_valid, y_pred))\n",
    "print(f\"confusion_matrix:{confusion_matrix(y_valid, y_pred)}\")\n",
    "print(f\"f1_score={f1_score(y_valid, y_pred, average='binary')}\")"
   ]
  },
  {
   "cell_type": "markdown",
   "id": "c8f3e63b",
   "metadata": {
    "id": "c8f3e63b"
   },
   "source": [
    "# 3. Naïve Bayes"
   ]
  },
  {
   "cell_type": "code",
   "execution_count": null,
   "id": "a7104601",
   "metadata": {
    "colab": {
     "base_uri": "https://localhost:8080/"
    },
    "id": "a7104601",
    "outputId": "112570c2-3802-43c8-8cb9-c8c3e115705d"
   },
   "outputs": [
    {
     "name": "stdout",
     "output_type": "stream",
     "text": [
      "              precision    recall  f1-score   support\n",
      "\n",
      "           0       1.00      0.49      0.66        81\n",
      "           1       0.13      1.00      0.23         6\n",
      "\n",
      "    accuracy                           0.53        87\n",
      "   macro avg       0.56      0.75      0.44        87\n",
      "weighted avg       0.94      0.53      0.63        87\n",
      "\n",
      "confusion_matrix:[[40 41]\n",
      " [ 0  6]]\n",
      "f1_score=0.22641509433962262\n"
     ]
    }
   ],
   "source": [
    "gb = GaussianNB()\n",
    "gb.fit(X_train, y_train)\n",
    "y_pred = gb.predict(X_valid)\n",
    "print(classification_report(y_valid, y_pred))\n",
    "print(f\"confusion_matrix:{confusion_matrix(y_valid, y_pred)}\")\n",
    "print(f\"f1_score={f1_score(y_valid, y_pred, average='binary')}\")"
   ]
  },
  {
   "cell_type": "code",
   "execution_count": null,
   "id": "1b8b3f8f",
   "metadata": {
    "colab": {
     "base_uri": "https://localhost:8080/"
    },
    "id": "1b8b3f8f",
    "outputId": "ceaf4b8e-6b05-45fd-8769-bd575cff2eff"
   },
   "outputs": [
    {
     "name": "stdout",
     "output_type": "stream",
     "text": [
      "Fitting 5 folds for each of 100 candidates, totalling 500 fits\n"
     ]
    }
   ],
   "source": [
    "#find the optimal hyperparameters\n",
    "g=GaussianNB()\n",
    "params_NB = {'var_smoothing': np.logspace(0,-9, num=100)}\n",
    "gs_NB = GridSearchCV(estimator=g, param_grid = params_NB, verbose=1, scoring='accuracy') \n",
    "gs_NB.fit(X_train, y_train)\n",
    "\n",
    "var_value = gs_NB.best_params_.get('var_smoothing')\n",
    "gb = GaussianNB(var_smoothing = var_value)\n",
    "gb.fit(X_train, y_train)\n",
    "y_pred = gb.predict(X_valid)"
   ]
  },
  {
   "cell_type": "code",
   "execution_count": null,
   "id": "5766a9c8",
   "metadata": {
    "colab": {
     "base_uri": "https://localhost:8080/"
    },
    "id": "5766a9c8",
    "outputId": "4cb8308c-ccc6-414d-cd38-5abd4a15c10c"
   },
   "outputs": [
    {
     "name": "stdout",
     "output_type": "stream",
     "text": [
      "              precision    recall  f1-score   support\n",
      "\n",
      "           0       1.00      0.52      0.68        81\n",
      "           1       0.13      1.00      0.24         6\n",
      "\n",
      "    accuracy                           0.55        87\n",
      "   macro avg       0.57      0.76      0.46        87\n",
      "weighted avg       0.94      0.55      0.65        87\n",
      "\n",
      "confusion_matrix:[[42 39]\n",
      " [ 0  6]]\n",
      "f1_score=0.23529411764705882\n"
     ]
    }
   ],
   "source": [
    "print(classification_report(y_valid, y_pred))\n",
    "print(f\"confusion_matrix:{confusion_matrix(y_valid, y_pred)}\")\n",
    "print(f\"f1_score={f1_score(y_valid, y_pred, average='binary')}\")\n"
   ]
  },
  {
   "cell_type": "markdown",
   "id": "80cbe95d",
   "metadata": {
    "id": "80cbe95d"
   },
   "source": [
    "# 4. Decision Trees\n"
   ]
  },
  {
   "cell_type": "code",
   "execution_count": null,
   "id": "81fded0d",
   "metadata": {
    "colab": {
     "base_uri": "https://localhost:8080/"
    },
    "id": "81fded0d",
    "outputId": "659cca5a-c24f-4791-9cc3-16ab152491e5"
   },
   "outputs": [
    {
     "name": "stdout",
     "output_type": "stream",
     "text": [
      "              precision    recall  f1-score   support\n",
      "\n",
      "           0       0.99      0.98      0.98        81\n",
      "           1       0.71      0.83      0.77         6\n",
      "\n",
      "    accuracy                           0.97        87\n",
      "   macro avg       0.85      0.90      0.88        87\n",
      "weighted avg       0.97      0.97      0.97        87\n",
      "\n",
      "confusion_matrix:[[79  2]\n",
      " [ 1  5]]\n",
      "f1_score=0.7692307692307692\n"
     ]
    }
   ],
   "source": [
    "dtree = DecisionTreeClassifier(random_state=0)\n",
    "dtree.fit(X_train, y_train)\n",
    "y_pred = dtree.predict(X_valid)\n",
    "print(classification_report(y_valid, y_pred))\n",
    "print(f\"confusion_matrix:{confusion_matrix(y_valid, y_pred)}\")\n",
    "print(f\"f1_score={f1_score(y_valid, y_pred, average='binary')}\")\n"
   ]
  },
  {
   "cell_type": "code",
   "execution_count": null,
   "id": "f160bb83",
   "metadata": {
    "colab": {
     "base_uri": "https://localhost:8080/"
    },
    "id": "f160bb83",
    "outputId": "79b052f6-04b8-4ad1-89eb-07e85ddcdc12"
   },
   "outputs": [
    {
     "name": "stdout",
     "output_type": "stream",
     "text": [
      "Fitting 20 folds for each of 256 candidates, totalling 5120 fits\n"
     ]
    }
   ],
   "source": [
    "#find the optimal hyperparameters\n",
    "dtreeparam_grid = {\n",
    "    'max_depth': np.arange(1,17),\n",
    "    'max_features': np.arange(1,17),\n",
    "    'random_state': [0]\n",
    "}\n",
    "dtree_search = GridSearchCV(dtree, param_grid = dtreeparam_grid, refit = True, verbose = 1, cv=20)\n",
    "dtree_search.fit(X_train , y_train)\n",
    "\n",
    "all_param = []\n",
    "all_param = list(dtree_search.best_params_.values())\n",
    "\n",
    "dtree = DecisionTreeClassifier(criterion = \"entropy\", max_depth= all_param[0], max_features =all_param[1], random_state=3)\n",
    "dtree.fit(X_train, y_train)\n",
    "y_pred = dtree.predict(X_valid)"
   ]
  },
  {
   "cell_type": "code",
   "execution_count": null,
   "id": "68b6d44e",
   "metadata": {
    "colab": {
     "base_uri": "https://localhost:8080/"
    },
    "id": "68b6d44e",
    "outputId": "6d68e439-a908-404b-89df-a985a03a4276"
   },
   "outputs": [
    {
     "name": "stdout",
     "output_type": "stream",
     "text": [
      "              precision    recall  f1-score   support\n",
      "\n",
      "           0       0.99      0.98      0.98        81\n",
      "           1       0.71      0.83      0.77         6\n",
      "\n",
      "    accuracy                           0.97        87\n",
      "   macro avg       0.85      0.90      0.88        87\n",
      "weighted avg       0.97      0.97      0.97        87\n",
      "\n",
      "confusion_matrix:[[79  2]\n",
      " [ 1  5]]\n",
      "f1_score=0.7692307692307692\n"
     ]
    }
   ],
   "source": [
    "print(classification_report(y_valid, y_pred))\n",
    "print(f\"confusion_matrix:{confusion_matrix(y_valid, y_pred)}\")\n",
    "print(f\"f1_score={f1_score(y_valid, y_pred, average='binary')}\")"
   ]
  },
  {
   "cell_type": "markdown",
   "id": "e37dc9d5",
   "metadata": {
    "id": "e37dc9d5"
   },
   "source": [
    "# 5. Support Vector Machines"
   ]
  },
  {
   "cell_type": "code",
   "execution_count": 12,
   "id": "267718a4",
   "metadata": {
    "colab": {
     "base_uri": "https://localhost:8080/"
    },
    "id": "267718a4",
    "outputId": "dc265a09-8733-4ec7-e5db-615e638dd8a8"
   },
   "outputs": [
    {
     "name": "stdout",
     "output_type": "stream",
     "text": [
      "              precision    recall  f1-score   support\n",
      "\n",
      "           0       0.98      1.00      0.99        81\n",
      "           1       1.00      0.67      0.80         6\n",
      "\n",
      "    accuracy                           0.98        87\n",
      "   macro avg       0.99      0.83      0.89        87\n",
      "weighted avg       0.98      0.98      0.97        87\n",
      "\n",
      "confusion_matrix:[[81  0]\n",
      " [ 2  4]]\n",
      "f1_score=0.8\n",
      "recall_score:0.6666666666666666\n"
     ]
    }
   ],
   "source": [
    "svc = SVC()\n",
    "svc.fit(X_train, y_train)\n",
    "y_pred = svc.predict(X_valid)\n",
    "print(classification_report(y_valid, y_pred))\n",
    "print(f\"confusion_matrix:{confusion_matrix(y_valid, y_pred)}\")\n",
    "print(f\"f1_score={f1_score(y_valid, y_pred, average='binary')}\")\n",
    "print(f\"recall_score:{recall_score(y_valid, y_pred)}\")"
   ]
  },
  {
   "cell_type": "code",
   "execution_count": 13,
   "id": "36e88b14",
   "metadata": {
    "colab": {
     "base_uri": "https://localhost:8080/"
    },
    "id": "36e88b14",
    "outputId": "a911b9fa-6d7a-4d82-b970-b9f8495788cd"
   },
   "outputs": [
    {
     "name": "stdout",
     "output_type": "stream",
     "text": [
      "Fitting 7 folds for each of 228 candidates, totalling 1596 fits\n"
     ]
    }
   ],
   "source": [
    "\n",
    "#find the optimal hyperparameters\n",
    "svcparam_grid = {'kernel': ['poly','rbf','sigmoid'], 'degree': np.arange(1,20), 'random_state':[1], 'C': np.arange(0,2), 'gamma':['scale', 'auto'] }\n",
    "svc_search = GridSearchCV(svc, param_grid = svcparam_grid, refit = True, verbose = 1, cv=7)\n",
    "svc_search.fit(X_train , y_train)\n",
    "svc_search.best_params_\n",
    "\n",
    "all_param = []\n",
    "all_param = list(svc_search.best_params_.values())\n",
    "\n",
    "svc = SVC(C =all_param[0], degree= all_param[1], gamma=all_param[2], kernel = all_param[3], random_state=3)\n",
    "svc.fit(X_train, y_train)\n",
    "y_pred = svc.predict(X_valid)\n"
   ]
  },
  {
   "cell_type": "code",
   "execution_count": 14,
   "id": "959f3bec",
   "metadata": {
    "colab": {
     "base_uri": "https://localhost:8080/"
    },
    "id": "959f3bec",
    "outputId": "bc4d1aa6-4e59-4d43-e221-a7c157447822"
   },
   "outputs": [
    {
     "name": "stdout",
     "output_type": "stream",
     "text": [
      "              precision    recall  f1-score   support\n",
      "\n",
      "           0       0.98      1.00      0.99        81\n",
      "           1       1.00      0.67      0.80         6\n",
      "\n",
      "    accuracy                           0.98        87\n",
      "   macro avg       0.99      0.83      0.89        87\n",
      "weighted avg       0.98      0.98      0.97        87\n",
      "\n",
      "confusion_matrix:[[81  0]\n",
      " [ 2  4]]\n",
      "f1_score=0.8\n"
     ]
    }
   ],
   "source": [
    "\n",
    "print(classification_report(y_valid, y_pred))\n",
    "print(f\"confusion_matrix:{confusion_matrix(y_valid, y_pred)}\")\n",
    "print(f\"f1_score={f1_score(y_valid, y_pred, average='binary')}\")\n"
   ]
  },
  {
   "cell_type": "markdown",
   "id": "160ae35c",
   "metadata": {
    "id": "160ae35c"
   },
   "source": [
    "<h6 style=\"property:value;color:Tan;font-size:200%; \">c- Testing </h6> \n"
   ]
  },
  {
   "cell_type": "markdown",
   "id": "635a5f4f",
   "metadata": {
    "id": "635a5f4f"
   },
   "source": [
    "# 1- KNN"
   ]
  },
  {
   "cell_type": "code",
   "execution_count": null,
   "id": "f5becd29",
   "metadata": {
    "colab": {
     "base_uri": "https://localhost:8080/"
    },
    "id": "f5becd29",
    "outputId": "8594db87-6ad7-4fc1-a9cd-197b9a4c5d2e"
   },
   "outputs": [
    {
     "name": "stdout",
     "output_type": "stream",
     "text": [
      "              precision    recall  f1-score   support\n",
      "\n",
      "           0       1.00      0.95      0.97        74\n",
      "           1       0.75      1.00      0.86        12\n",
      "\n",
      "    accuracy                           0.95        86\n",
      "   macro avg       0.88      0.97      0.91        86\n",
      "weighted avg       0.97      0.95      0.96        86\n",
      "\n",
      "confusion_matrix:[[70  4]\n",
      " [ 0 12]]\n",
      "f1_score=0.8571428571428571\n",
      "roc_auc_score=0.972972972972973\n"
     ]
    }
   ],
   "source": [
    "y_pred = knn.predict(X_test)\n",
    "print(classification_report(y_test, y_pred))\n",
    "print(f\"confusion_matrix:{confusion_matrix(y_test, y_pred)}\")\n",
    "print(f\"f1_score={f1_score(y_test, y_pred, average='binary')}\")\n",
    "print(f\"roc_auc_score={roc_auc_score(y_test.to_numpy(), y_pred)}\")"
   ]
  },
  {
   "cell_type": "code",
   "execution_count": null,
   "id": "454cf59a",
   "metadata": {
    "colab": {
     "base_uri": "https://localhost:8080/",
     "height": 279
    },
    "id": "454cf59a",
    "outputId": "7f8c60a1-2d31-4193-c64f-e9950d2f03cd"
   },
   "outputs": [
    {
     "data": {
      "image/png": "[encoded data removed]",
      "text/plain": [
       "<Figure size 432x288 with 1 Axes>"
      ]
     },
     "metadata": {},
     "output_type": "display_data"
    }
   ],
   "source": [
    "metrics.plot_roc_curve(knn, X_test, y_test)\n",
    "plt.show()"
   ]
  },
  {
   "cell_type": "markdown",
   "id": "ca515e49",
   "metadata": {
    "id": "ca515e49"
   },
   "source": [
    "# 2- Logistic Regression"
   ]
  },
  {
   "cell_type": "code",
   "execution_count": null,
   "id": "728bc4bb",
   "metadata": {
    "colab": {
     "base_uri": "https://localhost:8080/"
    },
    "id": "728bc4bb",
    "outputId": "09d379e9-9ca3-43a3-c77b-92c0c6d52b44"
   },
   "outputs": [
    {
     "name": "stdout",
     "output_type": "stream",
     "text": [
      "              precision    recall  f1-score   support\n",
      "\n",
      "           0       0.97      1.00      0.99        74\n",
      "           1       1.00      0.83      0.91        12\n",
      "\n",
      "    accuracy                           0.98        86\n",
      "   macro avg       0.99      0.92      0.95        86\n",
      "weighted avg       0.98      0.98      0.98        86\n",
      "\n",
      "confusion_matrix:[[74  0]\n",
      " [ 2 10]]\n",
      "f1_score=0.9090909090909091\n",
      "roc_auc_score=0.9166666666666667\n"
     ]
    }
   ],
   "source": [
    "y_pred = lr.predict(X_test)\n",
    "print(classification_report(y_test, y_pred))\n",
    "print(f\"confusion_matrix:{confusion_matrix(y_test, y_pred)}\")\n",
    "print(f\"f1_score={f1_score(y_test, y_pred, average='binary')}\")\n",
    "print(f\"roc_auc_score={roc_auc_score(y_test.to_numpy(), y_pred)}\")"
   ]
  },
  {
   "cell_type": "code",
   "execution_count": null,
   "id": "2f4a4a53",
   "metadata": {
    "colab": {
     "base_uri": "https://localhost:8080/",
     "height": 279
    },
    "id": "2f4a4a53",
    "outputId": "b65c8cb0-1561-4637-8b23-2e93365facd8"
   },
   "outputs": [
    {
     "data": {
      "image/png": "[encoded data removed]",
      "text/plain": [
       "<Figure size 432x288 with 1 Axes>"
      ]
     },
     "metadata": {},
     "output_type": "display_data"
    }
   ],
   "source": [
    "metrics.plot_roc_curve(lr, X_test, y_test)\n",
    "plt.show()"
   ]
  },
  {
   "cell_type": "markdown",
   "id": "b3913c47",
   "metadata": {
    "id": "b3913c47"
   },
   "source": [
    "# 3- Naïve Bayes"
   ]
  },
  {
   "cell_type": "code",
   "execution_count": null,
   "id": "62f639f8",
   "metadata": {
    "colab": {
     "base_uri": "https://localhost:8080/"
    },
    "id": "62f639f8",
    "outputId": "73c042d9-f399-4775-a5ab-52a605bf4127"
   },
   "outputs": [
    {
     "name": "stdout",
     "output_type": "stream",
     "text": [
      "              precision    recall  f1-score   support\n",
      "\n",
      "           0       1.00      0.45      0.62        74\n",
      "           1       0.23      1.00      0.37        12\n",
      "\n",
      "    accuracy                           0.52        86\n",
      "   macro avg       0.61      0.72      0.49        86\n",
      "weighted avg       0.89      0.52      0.58        86\n",
      "\n",
      "confusion_matrix:[[33 41]\n",
      " [ 0 12]]\n",
      "f1_score=0.36923076923076925\n",
      "roc_auc_score=0.722972972972973\n"
     ]
    }
   ],
   "source": [
    "y_pred = gb.predict(X_test)\n",
    "print(classification_report(y_test, y_pred))\n",
    "print(f\"confusion_matrix:{confusion_matrix(y_test, y_pred)}\")\n",
    "print(f\"f1_score={f1_score(y_test, y_pred, average='binary')}\")\n",
    "print(f\"roc_auc_score={roc_auc_score(y_test.to_numpy(), y_pred)}\")"
   ]
  },
  {
   "cell_type": "code",
   "execution_count": null,
   "id": "50e2d0a3",
   "metadata": {
    "colab": {
     "base_uri": "https://localhost:8080/",
     "height": 279
    },
    "id": "50e2d0a3",
    "outputId": "4891a9d7-0eb8-4c61-88f3-3baeab23f8ad"
   },
   "outputs": [
    {
     "data": {
      "image/png": "[encoded data removed]",
      "text/plain": [
       "<Figure size 432x288 with 1 Axes>"
      ]
     },
     "metadata": {},
     "output_type": "display_data"
    }
   ],
   "source": [
    "metrics.plot_roc_curve(gb, X_test, y_test)\n",
    "plt.show()"
   ]
  },
  {
   "cell_type": "markdown",
   "id": "d75b9418",
   "metadata": {
    "id": "d75b9418"
   },
   "source": [
    "# 4- Decision Trees"
   ]
  },
  {
   "cell_type": "code",
   "execution_count": null,
   "id": "3f49664a",
   "metadata": {
    "colab": {
     "base_uri": "https://localhost:8080/"
    },
    "id": "3f49664a",
    "outputId": "d591db9e-898e-401a-c9af-cb976ac0edf9"
   },
   "outputs": [
    {
     "name": "stdout",
     "output_type": "stream",
     "text": [
      "              precision    recall  f1-score   support\n",
      "\n",
      "           0       0.95      0.99      0.97        74\n",
      "           1       0.89      0.67      0.76        12\n",
      "\n",
      "    accuracy                           0.94        86\n",
      "   macro avg       0.92      0.83      0.86        86\n",
      "weighted avg       0.94      0.94      0.94        86\n",
      "\n",
      "confusion_matrix:[[73  1]\n",
      " [ 4  8]]\n",
      "f1_score=0.761904761904762\n",
      "roc_auc_score=0.8265765765765765\n"
     ]
    }
   ],
   "source": [
    "y_pred = dtree.predict(X_test)\n",
    "print(classification_report(y_test, y_pred))\n",
    "print(f\"confusion_matrix:{confusion_matrix(y_test, y_pred)}\")\n",
    "print(f\"f1_score={f1_score(y_test, y_pred, average='binary')}\")\n",
    "print(f\"roc_auc_score={roc_auc_score(y_test.to_numpy(), y_pred)}\")"
   ]
  },
  {
   "cell_type": "code",
   "execution_count": null,
   "id": "83cb7ad8",
   "metadata": {
    "colab": {
     "base_uri": "https://localhost:8080/",
     "height": 279
    },
    "id": "83cb7ad8",
    "outputId": "1ffbba96-395d-4cda-8503-115461af6fb0"
   },
   "outputs": [
    {
     "data": {
      "image/png": "[encoded data removed]",
      "text/plain": [
       "<Figure size 432x288 with 1 Axes>"
      ]
     },
     "metadata": {},
     "output_type": "display_data"
    }
   ],
   "source": [
    "metrics.plot_roc_curve(dtree, X_test, y_test)\n",
    "plt.show()"
   ]
  },
  {
   "cell_type": "markdown",
   "id": "521a4c79",
   "metadata": {
    "id": "521a4c79"
   },
   "source": [
    "# 5- Support Vector Machines"
   ]
  },
  {
   "cell_type": "code",
   "execution_count": 15,
   "id": "f2c11245",
   "metadata": {
    "colab": {
     "base_uri": "https://localhost:8080/"
    },
    "id": "f2c11245",
    "outputId": "7e5998a8-fd8a-4263-c1d6-bd4278a34bb8"
   },
   "outputs": [
    {
     "name": "stdout",
     "output_type": "stream",
     "text": [
      "              precision    recall  f1-score   support\n",
      "\n",
      "           0       0.93      1.00      0.96        74\n",
      "           1       1.00      0.50      0.67        12\n",
      "\n",
      "    accuracy                           0.93        86\n",
      "   macro avg       0.96      0.75      0.81        86\n",
      "weighted avg       0.94      0.93      0.92        86\n",
      "\n",
      "confusion_matrix:[[74  0]\n",
      " [ 6  6]]\n",
      "f1_score=0.6666666666666666\n",
      "roc_auc_score=0.75\n"
     ]
    }
   ],
   "source": [
    "y_pred = svc.predict(X_test)\n",
    "print(classification_report(y_test, y_pred))\n",
    "print(f\"confusion_matrix:{confusion_matrix(y_test, y_pred)}\")\n",
    "print(f\"f1_score={f1_score(y_test, y_pred, average='binary')}\")\n",
    "print(f\"roc_auc_score={roc_auc_score(y_test.to_numpy(), y_pred)}\")"
   ]
  },
  {
   "cell_type": "code",
   "execution_count": null,
   "id": "4a7ccce5",
   "metadata": {
    "colab": {
     "base_uri": "https://localhost:8080/",
     "height": 279
    },
    "id": "4a7ccce5",
    "outputId": "a1e01dbf-ec0e-4f28-c203-46f8e6ed5af9"
   },
   "outputs": [
    {
     "data": {
      "image/png": "[encoded data removed]",
      "text/plain": [
       "<Figure size 432x288 with 1 Axes>"
      ]
     },
     "metadata": {},
     "output_type": "display_data"
    }
   ],
   "source": [
    "metrics.plot_roc_curve(svc, X_test, y_test)\n",
    "plt.show()"
   ]
  }
 ],
 "metadata": {
  "accelerator": "GPU",
  "colab": {
   "name": "project.ipynb",
   "provenance": []
  },
  "kernelspec": {
   "display_name": "Python 3 (ipykernel)",
   "language": "python",
   "name": "python3"
  },
  "language_info": {
   "codemirror_mode": {
    "name": "ipython",
    "version": 3
   },
   "file_extension": ".py",
   "mimetype": "text/x-python",
   "name": "python",
   "nbconvert_exporter": "python",
   "pygments_lexer": "ipython3",
   "version": "3.9.7"
  }
 },
 "nbformat": 4,
 "nbformat_minor": 5
}
